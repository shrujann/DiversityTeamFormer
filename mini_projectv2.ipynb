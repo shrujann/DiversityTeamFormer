{
 "cells": [
  {
   "cell_type": "markdown",
   "metadata": {},
   "source": [
    "### **csv2dict function**\n",
    "- Reads the student information from the <span style=\"color: LightBlue;\">**records.csv**</span> file\n",
    "- Transforms the data into <span style=\"color: LightBlue;\">**a list of dictionaries**</span> called \"studentInfo\", where each dictionary contains a student's info"
   ]
  },
  {
   "cell_type": "code",
   "execution_count": 50,
   "metadata": {},
   "outputs": [],
   "source": [
    "def csv2dict(filename):\n",
    "    with open(filename, \"r\") as target:\n",
    "        linesasList = []\n",
    "        studentInfo = []\n",
    "        print(\"\\n Reading the lines of the file... \")\n",
    "        for line in target:\n",
    "            linesasList.append(line) # to add all the lines of the csv file into a list\n",
    "        print(\" All lines have been read and stored in the variable 'linesasList' \")\n",
    "\n",
    "        for line in linesasList[1:]:\n",
    "            # for each value in the CSV file, after the headers, create a dictionary with the following categories for each line.\n",
    "            tutorial_group, student_id, school, name, gender, cgpa = line.strip().split(',')\n",
    "\n",
    "            studentInfoAsDict = {\n",
    "            'Tutorial Group': int(tutorial_group.strip(\"G-\")),\n",
    "            'Student ID': student_id,\n",
    "            'Name': name,\n",
    "            'School': school,\n",
    "            'Gender': gender,\n",
    "            'CGPA': float(cgpa)\n",
    "            }\n",
    "            \n",
    "            studentInfo.append(studentInfoAsDict)\n",
    "        print(\" All student data has been stored into the list 'studentInfo' \")\n",
    "    return studentInfo"
   ]
  },
  {
   "cell_type": "code",
   "execution_count": 51,
   "metadata": {},
   "outputs": [
    {
     "name": "stdout",
     "output_type": "stream",
     "text": [
      "\n",
      " Reading the lines of the file... \n",
      " All lines have been read and stored in the variable 'linesasList' \n",
      " All student data has been stored into the list 'studentInfo' \n"
     ]
    }
   ],
   "source": [
    "studentsInfoAsDictionaries = csv2dict(\"records.csv\")"
   ]
  },
  {
   "cell_type": "markdown",
   "metadata": {},
   "source": [
    "### **merge_sort & merge function**\n",
    "- Merge sort algorithm for quick sorting of \"studentsInfoAsDictionaries\""
   ]
  },
  {
   "cell_type": "code",
   "execution_count": 52,
   "metadata": {},
   "outputs": [],
   "source": [
    "def merge_sort(list, key):\n",
    "    if len(list) <= 1:\n",
    "        return list\n",
    "    mid = len(list) // 2\n",
    "    left = merge_sort(list[:mid],key)\n",
    "    right = merge_sort(list[mid:],key)\n",
    "    return merge(left,right, key)\n",
    "\n",
    "\n",
    "def merge(left, right, key):\n",
    "    result = []\n",
    "    i = j = 0\n",
    "    while i < len(left) and j < len(right):\n",
    "        if left[i][key] <= right[j][key]:\n",
    "            result.append(left[i])\n",
    "            i += 1\n",
    "        else:\n",
    "            result.append(right[j])\n",
    "            j += 1\n",
    "    result.extend(left[i:])\n",
    "    result.extend(right[j:])\n",
    "    return result"
   ]
  },
  {
   "cell_type": "markdown",
   "metadata": {},
   "source": [
    "- Sorts the list of dictionaries by their \"tutorial group\" key. Sorts them in <span style=\"color: LightBlue;\">**ascending tutorial groups**</span>"
   ]
  },
  {
   "cell_type": "code",
   "execution_count": 53,
   "metadata": {},
   "outputs": [
    {
     "name": "stdout",
     "output_type": "stream",
     "text": [
      "\n",
      " Attempting merge-sorting on the student data stored in the list... \n",
      " Sorting sucessful! \n"
     ]
    }
   ],
   "source": [
    "print(\"\\n Attempting merge-sorting on the student data stored in the list... \")\n",
    "sortedStudentInfoAsDictionaries = merge_sort(studentsInfoAsDictionaries, \"Tutorial Group\")\n",
    "print(\" Sorting sucessful! \")"
   ]
  },
  {
   "cell_type": "markdown",
   "metadata": {},
   "source": [
    "- Saves the sorted student data into a new CSV file called \"sortedRecords\""
   ]
  },
  {
   "cell_type": "code",
   "execution_count": 54,
   "metadata": {},
   "outputs": [
    {
     "name": "stdout",
     "output_type": "stream",
     "text": [
      "\n",
      " Attempting to save sorted data into CSV file 'sortedRecords'... \n",
      " Stored sucessfully! \n"
     ]
    }
   ],
   "source": [
    "print(\"\\n Attempting to save sorted data into CSV file 'sortedRecords'... \")\n",
    "with open(\"sortedRecords.csv\", \"w+\") as target:\n",
    "    for i in sortedStudentInfoAsDictionaries:\n",
    "        print(i, file=target)\n",
    "print(\" Stored sucessfully! \")\n"
   ]
  },
  {
   "cell_type": "markdown",
   "metadata": {},
   "source": [
    "### **studentsAsTutorialGroupLists function**\n",
    "- Splits the \"sortedStudentInfoAsDictionaries\" list into <span style=\"color: LightBlue;\">**sublists**</span>, with each sublist representing a tutorial group"
   ]
  },
  {
   "cell_type": "code",
   "execution_count": 55,
   "metadata": {},
   "outputs": [],
   "source": [
    "def studentsAsTutorialGroupLists(list):\n",
    "    counter = 0\n",
    "    sortedInto120Lists = []\n",
    "    temporaryList = []\n",
    "    for i in list:\n",
    "        counter += 1\n",
    "        if counter % 50 == 0:\n",
    "            temporaryList.append(i)\n",
    "            sortedInto120Lists.append(temporaryList)\n",
    "            temporaryList = []\n",
    "        else:\n",
    "            temporaryList.append(i)\n",
    "    return sortedInto120Lists"
   ]
  },
  {
   "cell_type": "code",
   "execution_count": 56,
   "metadata": {},
   "outputs": [
    {
     "name": "stdout",
     "output_type": "stream",
     "text": [
      "\n",
      " Attempting to sort the values into 120 lists with each tutorial group...\n",
      " Sucessfully seperated them into their assigned tutorial groups \n"
     ]
    }
   ],
   "source": [
    "print(\"\\n Attempting to sort the values into 120 lists with each tutorial group...\")\n",
    "sortedTutorialGroups = studentsAsTutorialGroupLists(sortedStudentInfoAsDictionaries)\n",
    "print(\" Sucessfully seperated them into their assigned tutorial groups \")"
   ]
  },
  {
   "cell_type": "markdown",
   "metadata": {},
   "source": [
    "### **gpasort function**\n",
    "- Sorts each tutorial group (sublist of students) by <span style=\"color: LightBlue;\">**CGPA (from lowest to highest)**</span>."
   ]
  },
  {
   "cell_type": "code",
   "execution_count": 57,
   "metadata": {},
   "outputs": [],
   "source": [
    "def gpasort(list):\n",
    "    sortedListByGpa = []\n",
    "    print(\"\\n Attempting to sort the tutorial groups by GPA...\")\n",
    "    for i in list:\n",
    "        sorted_tutorialGroup = merge_sort(i, \"CGPA\")\n",
    "        sortedListByGpa.append(sorted_tutorialGroup)\n",
    "    print(\" Sucessfully sorted all of the groups by GPA \")\n",
    "    return sortedListByGpa"
   ]
  },
  {
   "cell_type": "markdown",
   "metadata": {},
   "source": [
    "- Saves the sorted data into a list called \"gpasortedTutorialGroups\""
   ]
  },
  {
   "cell_type": "code",
   "execution_count": 58,
   "metadata": {},
   "outputs": [
    {
     "name": "stdout",
     "output_type": "stream",
     "text": [
      "\n",
      " Attempting to sort the tutorial groups by GPA...\n",
      " Sucessfully sorted all of the groups by GPA \n"
     ]
    }
   ],
   "source": [
    "gpasortedTutorialGroups = gpasort(sortedTutorialGroups)"
   ]
  },
  {
   "cell_type": "markdown",
   "metadata": {},
   "source": [
    "### **teamFormation function**\n",
    "- Form teams of 5 students within each tutorial group, ensuring that no team has more than 2 students from the same school. \n",
    "    - Teams are formed by picking students <span style=\"color: LightBlue;\">**alternatively**</span> based on their GPA\n",
    "        - For <span style=\"color: LightBlue;\">**even**</span> positions (0, 2, 4) in a team, it selects students with the <span style=\"color: LightBlue;\">**lowest**</span> GPA\n",
    "        - For <span style=\"color: LightBlue;\">**odd**</span> positions  (1, 3, 5) in a team, it selects students with the <span style=\"color: LightBlue;\">**highest**</span> GPA\n",
    "    - If adding a student <span style=\"color: LightBlue;\">**violates the school limits**</span>, the program <span style=\"color: LightBlue;\">**first tries to find a valid student**</span>. If <span style=\"color: LightBlue;\">**not possible**</span>, it will <span style=\"color: LightBlue;\">**relax**</span> the school limit"
   ]
  },
  {
   "cell_type": "code",
   "execution_count": 59,
   "metadata": {},
   "outputs": [],
   "source": [
    "def teamFormation(list):\n",
    "    teamFormedLists = []\n",
    "\n",
    "    for tutorial_group in list:\n",
    "        team = []\n",
    "        numberOfTeams = 0\n",
    "        numberOfStudentsInTheTeam = 0\n",
    "        schoolCriteriaRelaxed = False\n",
    "\n",
    "        while tutorial_group:  # Continue until all students in the tut group are processed\n",
    "            if numberOfStudentsInTheTeam % 2 == 0:  # for even index, it will try to add students from the start of the list (lowest GPA)\n",
    "                satisfySchoolCriteria = False\n",
    "                for i in range(len(tutorial_group)):\n",
    "                    if len([s for s in team if s['School'] == tutorial_group[i]['School']]) < 2: # max 2 students from the same school\n",
    "                        added_student = tutorial_group.pop(i) #add student to team and remove them from tut group list\n",
    "                        team.append(added_student)\n",
    "                        numberOfStudentsInTheTeam += 1\n",
    "                        satisfySchoolCriteria = True\n",
    "                        break  # Stop searching once a valid student is added to team\n",
    "                \n",
    "                if not satisfySchoolCriteria:\n",
    "                    # Relax the criteria to allow students from the same school\n",
    "                    if not schoolCriteriaRelaxed:\n",
    "                        school = tutorial_group[i]['School']  # Store the school of the last attempted student\n",
    "                        print(f\" Tutorial Group G-{team[0]['Tutorial Group']} Team Number {numberOfTeams + 1} has more than 2 students from the school: {school}\")\n",
    "                        schoolCriteriaRelaxed = True\n",
    "                    for i in range(len(tutorial_group)):\n",
    "                        added_student = tutorial_group.pop(i)\n",
    "                        team.append(added_student)\n",
    "                        numberOfStudentsInTheTeam += 1\n",
    "                        satisfySchoolCriteria = True\n",
    "                        break  # Stop searching once a valid student is added to team\n",
    "                    \n",
    "            else:  # for odd index, it will try to add students from the end of the list (highest GPA)\n",
    "                satisfySchoolCriteria = False\n",
    "                for i in range(len(tutorial_group) - 1, -1, -1): #search for students in reverse order (from bottom to top)\n",
    "                    if len([s for s in team if s['School'] == tutorial_group[i]['School']]) < 2:\n",
    "                        added_student = tutorial_group.pop(i)\n",
    "                        team.append(added_student)\n",
    "                        numberOfStudentsInTheTeam += 1\n",
    "                        satisfySchoolCriteria = True\n",
    "                        break  # Stop searching once a valid student is added to team\n",
    "                \n",
    "                if not satisfySchoolCriteria:\n",
    "                    # Relax the criteria to allow students from the same school\n",
    "                    if not schoolCriteriaRelaxed:\n",
    "                        school = tutorial_group[i]['School']  # Store the school of the last attempted student\n",
    "                        print(f\" Tutorial Group G-{team[0]['Tutorial Group']} Team Number {numberOfTeams + 1} has more than 2 students from the school: {school}\")\n",
    "                        schoolCriteriaRelaxed = True\n",
    "                    for i in range(len(tutorial_group) - 1, -1, -1):\n",
    "                        added_student = tutorial_group.pop(i)\n",
    "                        team.append(added_student)\n",
    "                        numberOfStudentsInTheTeam += 1\n",
    "                        satisfySchoolCriteria = True\n",
    "                        break  # Stop searching once a valid student is added to team\n",
    "\n",
    "            if numberOfStudentsInTheTeam % 5 == 0:\n",
    "                numberOfTeams += 1\n",
    "                for k in team:\n",
    "                    k[\"Team\"] = numberOfTeams\n",
    "                teamFormedLists.append(team)\n",
    "                team = []  # Reset team for the next team allocation\n",
    "                schoolCriteriaRelaxed = False # Reset for the next team\n",
    "\n",
    "    return teamFormedLists"
   ]
  },
  {
   "cell_type": "code",
   "execution_count": 60,
   "metadata": {},
   "outputs": [
    {
     "name": "stdout",
     "output_type": "stream",
     "text": [
      "\n",
      " Attempting to allocate students into teams of 5 in each tutorial group based on GPA and school criteria...\n",
      " Tutorial Group G-18 Team Number 10 has more than 2 students from the school: CoB (NBS)\n",
      " Tutorial Group G-30 Team Number 10 has more than 2 students from the school: MAE\n",
      " Tutorial Group G-31 Team Number 10 has more than 2 students from the school: CoB (NBS)\n",
      " Tutorial Group G-59 Team Number 10 has more than 2 students from the school: CoB (NBS)\n",
      " Tutorial Group G-61 Team Number 10 has more than 2 students from the school: MAE\n",
      " All students have been placed into teams!\n"
     ]
    }
   ],
   "source": [
    "print(\"\\n Attempting to allocate students into teams of 5 in each tutorial group based on GPA and school criteria...\")\n",
    "x = teamFormation(gpasortedTutorialGroups)\n",
    "print(\" All students have been placed into teams!\")\n"
   ]
  },
  {
   "cell_type": "markdown",
   "metadata": {},
   "source": [
    "- Saves the new allocated teams data into a new CSV file called \"sortedteamRecords\""
   ]
  },
  {
   "cell_type": "code",
   "execution_count": 61,
   "metadata": {},
   "outputs": [
    {
     "name": "stdout",
     "output_type": "stream",
     "text": [
      "\n",
      " Attempting to save allocated teams data into CSV file 'sortedteamRecords'...\n",
      " Stored sucessfully! \n",
      "\n"
     ]
    }
   ],
   "source": [
    "print(\"\\n Attempting to save allocated teams data into CSV file 'sortedteamRecords'...\")\n",
    "# saves the new formed teams into sortedteamRecords.csv and creates a new column \"Team Number\"\n",
    "with open(\"sortedteamsRecords.csv\", \"w+\") as target:\n",
    "    target.write(\"Tutorial Group,Team Number,Student ID,School,Name,Gender,CGPA\\n\")\n",
    "    for group in x:\n",
    "        for student in group:\n",
    "            line = f\"G-{student['Tutorial Group']},team {student['Team']},{student['Student ID']},{student['School']},{student['Name']},{student['Gender']},{student['CGPA']}\\n\"\n",
    "            target.write(line)\n",
    "print(\" Stored sucessfully! \\n\")"
   ]
  }
 ],
 "metadata": {
  "language_info": {
   "name": "python"
  }
 },
 "nbformat": 4,
 "nbformat_minor": 2
}
