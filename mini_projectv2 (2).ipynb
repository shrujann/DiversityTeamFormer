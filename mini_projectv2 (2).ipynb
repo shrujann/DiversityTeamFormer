{
 "cells": [
  {
   "cell_type": "markdown",
   "metadata": {},
   "source": [
    "# **SC1003 Mini Project**"
   ]
  },
  {
   "cell_type": "markdown",
   "metadata": {},
   "source": [
    "----"
   ]
  },
  {
   "cell_type": "markdown",
   "metadata": {},
   "source": [
    "### **Team Members**\n",
    "- Aggarwal Akshay\n",
    "- Beesetty Venkata Chandra Shrujan Kumar\n",
    "- Benjamin Ho Zhu En\n",
    "- Chay Yi Xuan\n",
    "- Chen Yuguo"
   ]
  },
  {
   "cell_type": "markdown",
   "metadata": {},
   "source": [
    "----"
   ]
  },
  {
   "cell_type": "markdown",
   "metadata": {},
   "source": [
    "### **Project Background**\n",
    "Objective:\n",
    "- Tasked to develop an algorithm that organise students into diverse and balanced teams for a data science course at NTU\n",
    "\n",
    "Data: \n",
    "- The course has **6,000** students spread across **120** tutorial groups\n",
    "\n",
    "Team composition:\n",
    "- Each team should have **5** students \n",
    "\n",
    "Criteria for team formation:\n",
    "1. **CGPA:** Teams should not consist predominantly of students with very high or very low CGPAs\n",
    "2. **Gender:** Teams should not have a majority of students of the same gender\n",
    "3. **School affiliation:** Teams should not have a majority of students from the same school"
   ]
  },
  {
   "cell_type": "markdown",
   "metadata": {},
   "source": [
    "----"
   ]
  },
  {
   "cell_type": "markdown",
   "metadata": {},
   "source": [
    "## Overview\n",
    "Data Categorization: \n",
    "- Used key attributes—School, CGPA, and Gender. \n",
    "- Created 120 lists, each with 50 dictionaries. \n",
    "- Added students to groups while continuously checking for validity to maintain balance. \n",
    "\n",
    "Addressing Gender Diversity: \n",
    "- Targeted an approximate gender ratio of 60% female to 40% male in each team. \n",
    "\n",
    "Ensuring CGPA Balance: \n",
    "- Calculated the average CGPA for each group.\n",
    "- Ensured the mean CGPA of each team fell within an acceptable range (e.g., 4.0 to 4.4 if the overall mean is 4.2). \n",
    "\n",
    "Evaluation Function: \n",
    "- Optimized team formation by minimizing the standard deviation of CGPA across teams. \n",
    "\n",
    "Grouping Process:\n",
    "- Systematically processed the dataset to form teams one by one. \n",
    "- Refined groups iteratively until all 120 teams were complete.\n",
    "\n",
    "Handling Edge Cases:\n",
    "- Started with strict criteria and gradually relaxed them to ensure feasible team allocations. \n",
    "\n",
    "Outcome: \n",
    "- Balanced diversity and fairness effectively through this structured methodology.\n"
   ]
  },
  {
   "cell_type": "markdown",
   "metadata": {},
   "source": [
    "### **Computational Thinking Process**"
   ]
  },
  {
   "cell_type": "markdown",
   "metadata": {},
   "source": [
    "<img src=\"assets/Coding Draft 1.jpg\" width=\"500\"/>\n"
   ]
  },
  {
   "cell_type": "markdown",
   "metadata": {},
   "source": [
    "<img src=\"assets/Coding Draft 2.jpg\" width=\"500\"/>"
   ]
  },
  {
   "cell_type": "markdown",
   "metadata": {},
   "source": [
    "----"
   ]
  },
  {
   "cell_type": "markdown",
   "metadata": {},
   "source": [
    "### **Analysing the data**"
   ]
  },
  {
   "cell_type": "markdown",
   "metadata": {},
   "source": [
    "### **csv2dict function**\n",
    "- Reads the student information from the <span style=\"color: #1E90FF;\">**records.csv**</span> file\n",
    "- Transforms the data into <span style=\"color: #1E90FF;\">**a list of dictionaries**</span> called \"studentInfo\", where each dictionary contains a student's info"]}
  ,{
   "cell_type": "markdown",
   "metadata": {},
   "source": [
    "### Data preparation & Import plotting packages"
   ]
  },
  {
   "cell_type": "code",
   "execution_count": 1,
   "metadata": {},
   "outputs": [],
   "source": [
    "import matplotlib.pyplot as plt\n",
    "font1 = {'family' : 'Times New Roman',\n",
    "'weight' : 'normal',\n",
    "'size'   : 23,\n",
    "}\n",
    "def csv2dict(filename):\n",
    "    with open(filename, \"r\") as target:\n",
    "        linesasList = []\n",
    "        studentInfo = []\n",
    "        for line in target:\n",
    "            linesasList.append(line) # to add all the lines of the csv file into a list\n",
    "\n",
    "\n",
    "        for line in linesasList[1:]:\n",
    "            # for each value in the CSV file, after the headers, create a dictionary with the following categories for each line.\n",
    "            tutorial_group, student_id, school, name, gender, cgpa = line.strip().split(',')\n",
    "\n",
    "            studentInfoAsDict = {\n",
    "            'Tutorial Group': int(tutorial_group.strip(\"G-\")),\n",
    "            'Student ID': student_id,\n",
    "            'Name': name,\n",
    "            'School': school,\n",
    "            'Gender': gender,\n",
    "            'CGPA': float(cgpa)\n",
    "            }\n",
    "            \n",
    "            studentInfo.append(studentInfoAsDict)\n",
    "    return studentInfo\n",
    "\n",
    "def studentsAsTutorialGroupLists(list):\n",
    "    counter = 0\n",
    "    sortedInto120Lists = []\n",
    "    temporaryList = []\n",
    "    for i in list:\n",
    "        counter += 1\n",
    "        if counter % 50 == 0:\n",
    "            temporaryList.append(i)\n",
    "            sortedInto120Lists.append(temporaryList)\n",
    "            temporaryList = []\n",
    "        else:\n",
    "            temporaryList.append(i)\n",
    "    return sortedInto120Lists\n",
    "\n",
    "\n",
    "\n",
    "student_list = csv2dict(\"records.csv\")\n",
    "tutorial_group_list = studentsAsTutorialGroupLists(csv2dict(\"records.csv\"))\n",
    "\n",
    "def extract_feature(dictionary,key):\n",
    "    output = [i[key] for i in dictionary]\n",
    "    return output\n",
    "\n",
    "\n",
    "def sns_input(dictionary):\n",
    "    features = dictionary[0].keys()\n",
    "    print(features)\n",
    "    output_dict = {}\n",
    "    for feature in features:\n",
    "        f_list= extract_feature(dictionary,feature)\n",
    "        output_dict.update({feature:f_list})\n",
    "\n",
    "    return output_dict\n"
   ]
  },
  {
   "cell_type": "markdown",
   "metadata": {},
   "source": [
    "## Gender distribution"
   ]
  },
  {
   "cell_type": "code",
   "execution_count": 2,
   "metadata": {},
   "outputs": [
    {
     "data": {
      "image/png": "[encoded data removed]",
      "text/plain": [
       "<Figure size 640x480 with 1 Axes>"
      ]
     },
     "metadata": {},
     "output_type": "display_data"
    }
   ],
   "source": [
    "num_of_tutorial_group = 10\n",
    "male_count = []\n",
    "female_count = []\n",
    "width = 0.4\n",
    "\n",
    "for i in range(num_of_tutorial_group):\n",
    "    tutorial_group = tutorial_group_list[i]\n",
    "    gender_male = sum([i[\"Gender\"]==\"Male\" for i in tutorial_group])\n",
    "    gender_female = sum([i[\"Gender\"]==\"Female\" for i in tutorial_group])\n",
    "    male_count.append(gender_male)\n",
    "    female_count.append(gender_female)\n",
    "\n",
    "groups = tuple(\"Group \\n\"+str(i+1) for i in range(num_of_tutorial_group))\n",
    "sex_counts = {\"Male\":male_count,\"Female\":female_count}\n",
    "fig, ax = plt.subplots()\n",
    "bottom = [0 for i in range(num_of_tutorial_group)]\n",
    "\n",
    "for key,index in sex_counts.items():\n",
    "    graph = ax.bar(groups,index,width,label = key,bottom=bottom)\n",
    "    for j in range(len(index)):\n",
    "        bottom[j] += index[j]\n",
    "    ax.bar_label(graph, label_type='center')\n",
    "\n",
    "ax.set_title('Number of students in each tutorial group by gender')\n",
    "ax.legend()\n",
    "\n",
    "plt.show()       \n"
   ]
  },
  {
   "cell_type": "markdown",
   "metadata": {},
   "source": [
    "### Distribution of CGPA in group 1"
   ]
  },
  {
   "cell_type": "code",
   "execution_count": 3,
   "metadata": {},
   "outputs": [
    {
     "name": "stdout",
     "output_type": "stream",
     "text": [
      "dict_keys(['Tutorial Group', 'Student ID', 'Name', 'School', 'Gender', 'CGPA'])\n",
      "dict_keys(['Tutorial Group', 'Student ID', 'Name', 'School', 'Gender', 'CGPA'])\n"
     ]
    },
    {
     "data": {
      "image/png": "[encoded data removed]",
      "text/plain": [
       "<Figure size 640x480 with 2 Axes>"
      ]
     },
     "metadata": {},
     "output_type": "display_data"
    }
   ],
   "source": [
    "fig, axs = plt.subplots(1, 2)\n",
    "\n",
    "for i in range(len(axs)):\n",
    "    axs[i].hist(sns_input(tutorial_group_list[i])[\"CGPA\"])\n",
    "    axs[i].set_title('Distribution of CGPA in group '+str(i+1))\n",
    "plt.show() "
   ]
  },
  {
   "cell_type": "code",
   "execution_count": 4,
   "metadata": {},
   "outputs": [
    {
     "name": "stdout",
     "output_type": "stream",
     "text": [
      "dict_keys(['Tutorial Group', 'Student ID', 'Name', 'School', 'Gender', 'CGPA'])\n"
     ]
    },
    {
     "name": "stderr",
     "output_type": "stream",
     "text": [
      "C:\\Users\\yuguo\\AppData\\Local\\Temp\\ipykernel_69884\\1426492674.py:3: UserWarning: No artists with labels found to put in legend.  Note that artists whose label start with an underscore are ignored when legend() is called with no argument.\n",
      "  plt.legend()\n"
     ]
    },
    {
     "data": {
      "text/plain": [
       "<matplotlib.legend.Legend at 0x22c7fc29360>"
      ]
     },
     "execution_count": 4,
     "metadata": {},
     "output_type": "execute_result"
    },
    {
     "data": {
      "image/png": "[encoded data removed]",
      "text/plain": [
       "<Figure size 640x480 with 1 Axes>"
      ]
     },
     "metadata": {},
     "output_type": "display_data"
    }
   ],
   "source": [
    "plt.hist(sns_input(student_list)[\"CGPA\"])\n",
    "plt.title('Distribution of CGPA among all students')\n",
    "plt.legend()"
   ]
  },
  {
   "cell_type": "markdown",
   "metadata": {},
   "source": [
    "### Distribution of school"
   ]
  },
  {
   "cell_type": "code",
   "execution_count": 5,
   "metadata": {},
   "outputs": [
    {
     "name": "stdout",
     "output_type": "stream",
     "text": [
      "dict_keys(['Tutorial Group', 'Student ID', 'Name', 'School', 'Gender', 'CGPA'])\n"
     ]
    },
    {
     "data": {
      "text/plain": [
       "Text(0.5, 1.0, 'Distribution by school in group 62')"
      ]
     },
     "execution_count": 5,
     "metadata": {},
     "output_type": "execute_result"
    },
    {
     "data": {
      "image/png": "[encoded data removed]",
      "text/plain": [
       "<Figure size 1600x600 with 1 Axes>"
      ]
     },
     "metadata": {},
     "output_type": "display_data"
    }
   ],
   "source": [
    "school = sns_input(tutorial_group_list[62])[\"School\"]\n",
    "name_list = {}\n",
    "for i in school:\n",
    "    if i in name_list:\n",
    "        name_list[i]+=1\n",
    "    else:\n",
    "        name_list[i] = 1\n",
    "fig, ax = plt.subplots(figsize=(16,6))\n",
    "graph = ax.bar(name_list.keys(),name_list.values())\n",
    "ax.bar_label(graph)\n",
    "ax.set_title('Distribution by school in group '+str(62))"
   ]
  },
  {
   "cell_type": "markdown",
   "metadata": {},
   "source": [
    "----"
   ]
  },
  {
   "cell_type": "markdown",
   "metadata": {},
   "source": [
    "### **Flowchart**"
   ]
  },
  {
   "cell_type": "markdown",
   "metadata": {},
   "source": [
    "<img src=\"assets/Flowchart.jpg\" width=\"600\"/>\n"
   ]
  },
  {
   "cell_type": "markdown",
   "metadata": {},
   "source": [
    "## **Main Code**"
   ]
  },
  {
   "cell_type": "code",
   "execution_count": 6,
   "metadata": {},
   "outputs": [],
   "source": [
    "def csv2dict(filename):\n",
    "    with open(filename, \"r\") as target:\n",
    "        linesasList = []\n",
    "        studentInfo = []\n",
    "        print(\"\\n Reading the lines of the file... \")\n",
    "        for line in target:\n",
    "            linesasList.append(line) # to add all the lines of the csv file into a list\n",
    "        print(\" All lines have been read and stored in the variable 'linesasList' \")\n",
    "\n",
    "        for line in linesasList[1:]:\n",
    "            # for each value in the CSV file, after the headers, create a dictionary with the following categories for each line.\n",
    "            tutorial_group, student_id, school, name, gender, cgpa = line.strip().split(',')\n",
    "\n",
    "            studentInfoAsDict = {\n",
    "            'Tutorial Group': int(tutorial_group.strip(\"G-\")),\n",
    "            'Student ID': student_id,\n",
    "            'Name': name,\n",
    "            'School': school,\n",
    "            'Gender': gender,\n",
    "            'CGPA': float(cgpa)\n",
    "            }\n",
    "            \n",
    "            studentInfo.append(studentInfoAsDict)\n",
    "        print(\" All student data has been stored into the list 'studentInfo' \")\n",
    "    return studentInfo"
   ]
  },
  {
   "cell_type": "code",
   "execution_count": 7,
   "metadata": {},
   "outputs": [
    {
     "name": "stdout",
     "output_type": "stream",
     "text": [
      "\n",
      " Reading the lines of the file... \n",
      " All lines have been read and stored in the variable 'linesasList' \n",
      " All student data has been stored into the list 'studentInfo' \n"
     ]
    }
   ],
   "source": [
    "studentsInfoAsDictionaries = csv2dict(\"records.csv\")"
   ]
  },
  {
   "cell_type": "markdown",
   "metadata": {},
   "source": [
    "### **merge_sort & merge function**\n",
    "- We have all the data of the students, however this data is not organised by their tutorial groups, in order. To solve this issue we need to create a sorting function.\n",
    "\n",
    "- To sort these groups, we decided to go with a merge sort function.\n",
    "\n",
    "- Earlier, we stripped \"G-\" value the tutorial groups before storing them into the dictionaires for each student, to prepare the data for this sorting algorithm.\n",
    "\n",
    "- The merge sort function follows a divide and conquer strategy. It splits the unsorted list into two halves, and the splitting of lists continues recursively until each sublist has only one element.\n",
    "\n",
    "- It then starts merging these individual sublists into a sorted list, and combines both of the two sorted half lists together, and returns the fully sorted list."
   ]
  },
  {
   "cell_type": "code",
   "execution_count": null,
   "metadata": {},
   "outputs": [],
   "source": [
    "def merge_sort(list, key):\n",
    "    if len(list) <= 1:\n",
    "        return list\n",
    "    mid = len(list) // 2\n",
    "    left = merge_sort(list[:mid],key)\n",
    "    right = merge_sort(list[mid:],key)\n",
    "    return merge(left,right, key)\n",
    "\n",
    "\n",
    "def merge(left, right, key):\n",
    "    result = []\n",
    "    i = j = 0\n",
    "    while i < len(left) and j < len(right):\n",
    "        if left[i][key] <= right[j][key]:\n",
    "            result.append(left[i])\n",
    "            i += 1\n",
    "        else:\n",
    "            result.append(right[j])\n",
    "            j += 1\n",
    "    result.extend(left[i:])\n",
    "    result.extend(right[j:])\n",
    "    return result"
   ]
  },
  {
   "cell_type": "markdown",
   "metadata": {},
   "source": [
    "- Sorts the list of dictionaries by their \"tutorial group\" key. Sorts them in <span style=\"color: #1E90FF;\">**ascending tutorial groups**</span>"
   ]
  },
  {
   "cell_type": "code",
   "execution_count": 9,
   "metadata": {},
   "outputs": [
    {
     "name": "stdout",
     "output_type": "stream",
     "text": [
      "\n",
      " Attempting merge-sorting on the student data stored in the list... \n",
      " Sorting sucessful! \n"
     ]
    }
   ],
   "source": [
    "print(\"\\n Attempting merge-sorting on the student data stored in the list... \")\n",
    "sortedStudentInfoAsDictionaries = merge_sort(studentsInfoAsDictionaries, \"Tutorial Group\")\n",
    "print(\" Sorting sucessful! \")"
   ]
  },
  {
   "cell_type": "markdown",
   "metadata": {},
   "source": [
    "- Saves the sorted student data into a new CSV file called \"sortedRecords\""
   ]
  },
  {
   "cell_type": "code",
   "execution_count": 10,
   "metadata": {},
   "outputs": [
    {
     "name": "stdout",
     "output_type": "stream",
     "text": [
      "\n",
      " Attempting to save sorted data into CSV file 'sortedRecords'... \n",
      " Stored sucessfully! \n"
     ]
    }
   ],
   "source": [
    "print(\"\\n Attempting to save sorted data into CSV file 'sortedRecords'... \")\n",
    "with open(\"sortedRecords.csv\", \"w+\") as target:\n",
    "    for i in sortedStudentInfoAsDictionaries:\n",
    "        print(i, file=target)\n",
    "print(\" Stored sucessfully! \")"
   ]
  },
  {
   "cell_type": "markdown",
   "metadata": {},
   "source": [
    "### **studentsAsTutorialGroupLists function**\n",
    "- We initialize an empty list, known as \"sortedinto120Lists\". \n",
    "- We then create 120 lists using temporaryLists and the students in each tutorial group are added into their respective lists in order.\n",
    "- This function will basically have 120 lists starting with the students from Tutorial Group 1, followed by Tutorial Group 2, and so on."
   ]
  },
  {
   "cell_type": "code",
   "execution_count": 11,
   "metadata": {},
   "outputs": [],
   "source": [
    "def studentsAsTutorialGroupLists(list):\n",
    "    counter = 0\n",
    "    sortedInto120Lists = []\n",
    "    temporaryList = []\n",
    "    for i in list:\n",
    "        counter += 1\n",
    "        if counter % 50 == 0:\n",
    "            temporaryList.append(i)\n",
    "            sortedInto120Lists.append(temporaryList)\n",
    "            temporaryList = []\n",
    "        else:\n",
    "            temporaryList.append(i)\n",
    "    return sortedInto120Lists"
   ]
  },
  {
   "cell_type": "code",
   "execution_count": 12,
   "metadata": {},
   "outputs": [
    {
     "name": "stdout",
     "output_type": "stream",
     "text": [
      "\n",
      " Attempting to sort the values into 120 lists with each tutorial group...\n",
      " Sucessfully seperated them into their assigned tutorial groups \n"
     ]
    }
   ],
   "source": [
    "print(\"\\n Attempting to sort the values into 120 lists with each tutorial group...\")\n",
    "sortedTutorialGroups = studentsAsTutorialGroupLists(sortedStudentInfoAsDictionaries)\n",
    "print(\" Sucessfully seperated them into their assigned tutorial groups \")"
   ]
  },
  {
   "cell_type": "markdown",
   "metadata": {},
   "source": [
    "### **gpasort function**\n",
    "- Sorts each tutorial group (sublist of students) by <span style=\"color: #1E90FF;\">**CGPA (from lowest to highest)**</span>.\n",
    "- This is done by using the earlier mentioned merge-sort function, however we choose the \"key\" value to be CGPA instead of Tutorial Group."
   ]
  },
  {
   "cell_type": "code",
   "execution_count": 13,
   "metadata": {},
   "outputs": [],
   "source": [
    "def gpasort(list):\n",
    "    sortedListByGpa = []\n",
    "    print(\"\\n Attempting to sort the tutorial groups by GPA...\")\n",
    "    for i in list:\n",
    "        sorted_tutorialGroup = merge_sort(i, \"CGPA\")\n",
    "        sortedListByGpa.append(sorted_tutorialGroup)\n",
    "    print(\" Sucessfully sorted all of the groups by GPA \")\n",
    "    return sortedListByGpa"
   ]
  },
  {
   "cell_type": "markdown",
   "metadata": {},
   "source": [
    "- Saves the sorted data into a list called \"gpasortedTutorialGroups\""
   ]
  },
  {
   "cell_type": "code",
   "execution_count": 14,
   "metadata": {},
   "outputs": [
    {
     "name": "stdout",
     "output_type": "stream",
     "text": [
      "\n",
      " Attempting to sort the tutorial groups by GPA...\n",
      " Sucessfully sorted all of the groups by GPA \n"
     ]
    }
   ],
   "source": [
    "gpasortedTutorialGroups = gpasort(sortedTutorialGroups)"
   ]
  },
  {
   "cell_type": "markdown",
   "metadata": {},
   "source": [
    "### **genderRatio function**\n",
    "- Gets the ratio of male and female students in the team."
   ]
  },
  {
   "cell_type": "code",
   "execution_count": 15,
   "metadata": {},
   "outputs": [],
   "source": [
    "def genderRatio(teams,candidate):\n",
    "    if len(teams) == 0:\n",
    "        return (0,0)\n",
    "    team = teams + [candidate]\n",
    "    \n",
    "    maleRatio = len([s for s in team if s[\"Gender\"] == \"Male\"])/len(team)\n",
    "    femaleRatio = len([s for s in team if s[\"Gender\"] == \"Female\"])/len(team)\n",
    "    return (maleRatio,femaleRatio)"
   ]
  },
  {
   "cell_type": "markdown",
   "metadata": {},
   "source": [
    "### **teamFormation function**\n",
    "- Form teams of 5 students within each tutorial group, ensuring that no team has more than 2 students from the same school and no more than 3 students of the same gender\n",
    "    - Teams are formed by picking students <span style=\"color: #1E90FF;\">**alternatively**</span> based on their GPA and making sure that adding them would not exceed the school and gender limits\n",
    "        - For <span style=\"color: #1E90FF;\">**even**</span> positions (0, 2, 4) in a team, it selects students with the <span style=\"color: #1E90FF;\">**lowest**</span> GPA\n",
    "        - For <span style=\"color: #1E90FF;\">**odd**</span> positions  (1, 3, 5) in a team, it selects students with the <span style=\"color: #1E90FF;\">**highest**</span> GPA\n",
    "    - If adding a student <span style=\"color: #1E90FF;\">**violates the school & gender limits**</span>, the program <span style=\"color: #1E90FF;\">**first tries to find a valid student**</span>. If <span style=\"color: #1E90FF;\">**not possible**</span>, it will <span style=\"color: #1E90FF;\">**relax**</span> the limits."
   ]
  },
  {
   "cell_type": "code",
   "execution_count": 16,
   "metadata": {},
   "outputs": [],
   "source": [
    "num_of_student_in_each_group = 5\n",
    "def teamFormation(list):\n",
    "    teamFormedLists = []\n",
    "\n",
    "    for tutorial_group in list:\n",
    "        team = []\n",
    "        numberOfTeams = 0\n",
    "        numberOfStudentsInTheTeam = 0\n",
    "        CriteriasRelaxed = False\n",
    "\n",
    "        while tutorial_group:  # Continue until all students in the tut group are processed\n",
    "            if numberOfStudentsInTheTeam % 2 == 0:  # for even index, it will try to add students from the start of the list (lowest GPA)\n",
    "                satisfyCriteria = False\n",
    "                for i in range(len(tutorial_group)):\n",
    "                    # max 2 students from the same school & 3 students of the same gender\n",
    "                    if len([s for s in team if s['School'] == tutorial_group[i]['School']]) < 2 and (genderRatio(team,tutorial_group[i])[0]<0.75 and genderRatio(team,tutorial_group[i])[1]<0.75): \n",
    "                        added_student = tutorial_group.pop(i) #add student to team and remove them from tut group list\n",
    "                        team.append(added_student)\n",
    "                        numberOfStudentsInTheTeam += 1\n",
    "                        satisfyCriteria = True\n",
    "                        break  # Stop searching once a valid student is added to team\n",
    "                \n",
    "                if not satisfyCriteria:\n",
    "                    # Relax the criteria to allow students from the same school or of the same gender\n",
    "                    if not CriteriasRelaxed:\n",
    "                        print(f\" Tutorial Group G-{team[0]['Tutorial Group']} Team {numberOfTeams + 1} does not meet the school or gender criteria\")\n",
    "                        CriteriasRelaxed = True\n",
    "                    for i in range(len(tutorial_group)):\n",
    "                        added_student = tutorial_group.pop(i)\n",
    "                        team.append(added_student)\n",
    "                        numberOfStudentsInTheTeam += 1\n",
    "                        satisfyCriteria = True\n",
    "                        break  # Stop searching once a valid student is added to team\n",
    "                    \n",
    "            else:  # for odd index, it will try to add students from the end of the list (highest GPA)\n",
    "                satisfyCriteria = False\n",
    "                for i in range(len(tutorial_group) - 1, -1, -1): #search for students in reverse order (from bottom to top)\n",
    "                    # max 2 students from the same school & 3 students of the same gender \n",
    "                    if len([s for s in team if s['School'] == tutorial_group[i]['School']]) < 2 and (genderRatio(team,tutorial_group[i])[0]<0.75 and genderRatio(team,tutorial_group[i])[1]<0.75):\n",
    "                        added_student = tutorial_group.pop(i)\n",
    "                        team.append(added_student)\n",
    "                        numberOfStudentsInTheTeam += 1\n",
    "                        satisfyCriteria = True\n",
    "                        break  # Stop searching once a valid student is added to team\n",
    "                \n",
    "                if not satisfyCriteria:\n",
    "                    # Relax the criteria to allow students from the same school or of the same gender\n",
    "                    if not CriteriasRelaxed:\n",
    "                        print(f\" Tutorial Group G-{team[0]['Tutorial Group']} Team {numberOfTeams + 1} does not meet the school or gender criteria\")\n",
    "                        CriteriasRelaxed = True\n",
    "                    for i in range(len(tutorial_group) - 1, -1, -1):\n",
    "                        added_student = tutorial_group.pop(i)\n",
    "                        team.append(added_student)\n",
    "                        numberOfStudentsInTheTeam += 1\n",
    "                        satisfyCriteria = True\n",
    "                        break  # Stop searching once a valid student is added to team\n",
    "\n",
    "            if numberOfStudentsInTheTeam % num_of_student_in_each_group == 0:\n",
    "                numberOfTeams += 1\n",
    "                for k in team:\n",
    "                    k[\"Team\"] = numberOfTeams\n",
    "                teamFormedLists.append(team)\n",
    "                team = []  # Reset team for the next team allocation\n",
    "                CriteriasRelaxed = False # Reset for the next team\n",
    "\n",
    "    return teamFormedLists"
   ]
  },
  {
   "cell_type": "code",
   "execution_count": 17,
   "metadata": {},
   "outputs": [
    {
     "name": "stdout",
     "output_type": "stream",
     "text": [
      "\n",
      " Attempting to allocate students into teams of 5 in each tutorial group based on GPA and school criteria...\n",
      " Tutorial Group G-2 Team 9 does not meet the school or gender criteria\n",
      " Tutorial Group G-2 Team 10 does not meet the school or gender criteria\n",
      " Tutorial Group G-3 Team 10 does not meet the school or gender criteria\n",
      " Tutorial Group G-4 Team 8 does not meet the school or gender criteria\n",
      " Tutorial Group G-4 Team 9 does not meet the school or gender criteria\n",
      " Tutorial Group G-4 Team 10 does not meet the school or gender criteria\n",
      " Tutorial Group G-5 Team 9 does not meet the school or gender criteria\n",
      " Tutorial Group G-5 Team 10 does not meet the school or gender criteria\n",
      " Tutorial Group G-6 Team 10 does not meet the school or gender criteria\n",
      " Tutorial Group G-8 Team 10 does not meet the school or gender criteria\n",
      " Tutorial Group G-10 Team 10 does not meet the school or gender criteria\n",
      " Tutorial Group G-13 Team 10 does not meet the school or gender criteria\n",
      " Tutorial Group G-14 Team 10 does not meet the school or gender criteria\n",
      " Tutorial Group G-15 Team 10 does not meet the school or gender criteria\n",
      " Tutorial Group G-16 Team 10 does not meet the school or gender criteria\n",
      " Tutorial Group G-17 Team 10 does not meet the school or gender criteria\n",
      " Tutorial Group G-18 Team 10 does not meet the school or gender criteria\n",
      " Tutorial Group G-19 Team 10 does not meet the school or gender criteria\n",
      " Tutorial Group G-20 Team 10 does not meet the school or gender criteria\n",
      " Tutorial Group G-21 Team 10 does not meet the school or gender criteria\n",
      " Tutorial Group G-24 Team 10 does not meet the school or gender criteria\n",
      " Tutorial Group G-25 Team 10 does not meet the school or gender criteria\n",
      " Tutorial Group G-26 Team 10 does not meet the school or gender criteria\n",
      " Tutorial Group G-27 Team 9 does not meet the school or gender criteria\n",
      " Tutorial Group G-27 Team 10 does not meet the school or gender criteria\n",
      " Tutorial Group G-29 Team 10 does not meet the school or gender criteria\n",
      " Tutorial Group G-30 Team 10 does not meet the school or gender criteria\n",
      " Tutorial Group G-33 Team 10 does not meet the school or gender criteria\n",
      " Tutorial Group G-34 Team 10 does not meet the school or gender criteria\n",
      " Tutorial Group G-35 Team 10 does not meet the school or gender criteria\n",
      " Tutorial Group G-36 Team 9 does not meet the school or gender criteria\n",
      " Tutorial Group G-36 Team 10 does not meet the school or gender criteria\n",
      " Tutorial Group G-38 Team 9 does not meet the school or gender criteria\n",
      " Tutorial Group G-38 Team 10 does not meet the school or gender criteria\n",
      " Tutorial Group G-39 Team 9 does not meet the school or gender criteria\n",
      " Tutorial Group G-39 Team 10 does not meet the school or gender criteria\n",
      " Tutorial Group G-46 Team 10 does not meet the school or gender criteria\n",
      " Tutorial Group G-49 Team 10 does not meet the school or gender criteria\n",
      " Tutorial Group G-51 Team 10 does not meet the school or gender criteria\n",
      " Tutorial Group G-52 Team 9 does not meet the school or gender criteria\n",
      " Tutorial Group G-52 Team 10 does not meet the school or gender criteria\n",
      " Tutorial Group G-53 Team 10 does not meet the school or gender criteria\n",
      " Tutorial Group G-54 Team 10 does not meet the school or gender criteria\n",
      " Tutorial Group G-55 Team 9 does not meet the school or gender criteria\n",
      " Tutorial Group G-55 Team 10 does not meet the school or gender criteria\n",
      " Tutorial Group G-56 Team 10 does not meet the school or gender criteria\n",
      " Tutorial Group G-57 Team 9 does not meet the school or gender criteria\n",
      " Tutorial Group G-57 Team 10 does not meet the school or gender criteria\n",
      " Tutorial Group G-58 Team 10 does not meet the school or gender criteria\n",
      " Tutorial Group G-59 Team 10 does not meet the school or gender criteria\n",
      " Tutorial Group G-61 Team 10 does not meet the school or gender criteria\n",
      " Tutorial Group G-65 Team 9 does not meet the school or gender criteria\n",
      " Tutorial Group G-65 Team 10 does not meet the school or gender criteria\n",
      " Tutorial Group G-66 Team 10 does not meet the school or gender criteria\n",
      " Tutorial Group G-67 Team 10 does not meet the school or gender criteria\n",
      " Tutorial Group G-68 Team 10 does not meet the school or gender criteria\n",
      " Tutorial Group G-69 Team 10 does not meet the school or gender criteria\n",
      " Tutorial Group G-70 Team 9 does not meet the school or gender criteria\n",
      " Tutorial Group G-70 Team 10 does not meet the school or gender criteria\n",
      " Tutorial Group G-71 Team 9 does not meet the school or gender criteria\n",
      " Tutorial Group G-71 Team 10 does not meet the school or gender criteria\n",
      " Tutorial Group G-72 Team 10 does not meet the school or gender criteria\n",
      " Tutorial Group G-77 Team 10 does not meet the school or gender criteria\n",
      " Tutorial Group G-78 Team 10 does not meet the school or gender criteria\n",
      " Tutorial Group G-79 Team 10 does not meet the school or gender criteria\n",
      " Tutorial Group G-80 Team 10 does not meet the school or gender criteria\n",
      " Tutorial Group G-81 Team 10 does not meet the school or gender criteria\n",
      " Tutorial Group G-83 Team 10 does not meet the school or gender criteria\n",
      " Tutorial Group G-84 Team 9 does not meet the school or gender criteria\n",
      " Tutorial Group G-84 Team 10 does not meet the school or gender criteria\n",
      " Tutorial Group G-85 Team 10 does not meet the school or gender criteria\n",
      " Tutorial Group G-87 Team 10 does not meet the school or gender criteria\n",
      " Tutorial Group G-88 Team 10 does not meet the school or gender criteria\n",
      " Tutorial Group G-90 Team 10 does not meet the school or gender criteria\n",
      " Tutorial Group G-91 Team 10 does not meet the school or gender criteria\n",
      " Tutorial Group G-93 Team 10 does not meet the school or gender criteria\n",
      " Tutorial Group G-94 Team 10 does not meet the school or gender criteria\n",
      " Tutorial Group G-95 Team 9 does not meet the school or gender criteria\n",
      " Tutorial Group G-95 Team 10 does not meet the school or gender criteria\n",
      " Tutorial Group G-97 Team 8 does not meet the school or gender criteria\n",
      " Tutorial Group G-97 Team 9 does not meet the school or gender criteria\n",
      " Tutorial Group G-97 Team 10 does not meet the school or gender criteria\n",
      " Tutorial Group G-98 Team 10 does not meet the school or gender criteria\n",
      " Tutorial Group G-99 Team 10 does not meet the school or gender criteria\n",
      " Tutorial Group G-101 Team 10 does not meet the school or gender criteria\n",
      " Tutorial Group G-102 Team 10 does not meet the school or gender criteria\n",
      " Tutorial Group G-103 Team 10 does not meet the school or gender criteria\n",
      " Tutorial Group G-104 Team 9 does not meet the school or gender criteria\n",
      " Tutorial Group G-104 Team 10 does not meet the school or gender criteria\n",
      " Tutorial Group G-105 Team 10 does not meet the school or gender criteria\n",
      " Tutorial Group G-107 Team 10 does not meet the school or gender criteria\n",
      " Tutorial Group G-109 Team 10 does not meet the school or gender criteria\n",
      " Tutorial Group G-110 Team 10 does not meet the school or gender criteria\n",
      " Tutorial Group G-112 Team 10 does not meet the school or gender criteria\n",
      " Tutorial Group G-114 Team 8 does not meet the school or gender criteria\n",
      " Tutorial Group G-114 Team 9 does not meet the school or gender criteria\n",
      " Tutorial Group G-114 Team 10 does not meet the school or gender criteria\n",
      " Tutorial Group G-115 Team 10 does not meet the school or gender criteria\n",
      " Tutorial Group G-117 Team 10 does not meet the school or gender criteria\n",
      " Tutorial Group G-118 Team 10 does not meet the school or gender criteria\n",
      " Tutorial Group G-119 Team 10 does not meet the school or gender criteria\n",
      " Tutorial Group G-120 Team 10 does not meet the school or gender criteria\n",
      " All students have been placed into teams!\n"
     ]
    }
   ],
   "source": [
    "print(\"\\n Attempting to allocate students into teams of 5 in each tutorial group based on GPA and school criteria...\")\n",
    "num_of_student_in_each_group = 5\n",
    "x = teamFormation(gpasortedTutorialGroups)\n",
    "print(\" All students have been placed into teams!\")\n"
   ]
  },
  {
   "cell_type": "markdown",
   "metadata": {},
   "source": [
    "- Saves the new allocated teams data into a new CSV file called \"sortedteamRecords\""
   ]
  },
  {
   "cell_type": "code",
   "execution_count": 18,
   "metadata": {},
   "outputs": [
    {
     "name": "stdout",
     "output_type": "stream",
     "text": [
      "\n",
      " Attempting to save allocated teams data into CSV file 'sortedteamRecords'...\n",
      " Stored sucessfully! \n",
      "\n"
     ]
    }
   ],
   "source": [
    "print(\"\\n Attempting to save allocated teams data into CSV file 'sortedteamRecords'...\")\n",
    "# saves the new formed teams into sortedteamRecords.csv and creates a new column \"Team Number\"\n",
    "with open(\"sortedteamsRecords.csv\", \"w+\") as target:\n",
    "    target.write(\"Tutorial Group,Team Number,Student ID,School,Name,Gender,CGPA\\n\")\n",
    "    for group in x:\n",
    "        for student in group:\n",
    "            line = f\"G-{student['Tutorial Group']},team {student['Team']},{student['Student ID']},{student['School']},{student['Name']},{student['Gender']},{student['CGPA']}\\n\"\n",
    "            target.write(line)\n",
    "print(\" Stored sucessfully! \\n\")"
   ]
  },
  {
   "cell_type": "markdown",
   "metadata": {},
   "source": [
    "### **score function**\n",
    "- Gets the total diversity score based on GPA variance, gender ratios and the number of unique schools in each team"
   ]
  },
  {
   "cell_type": "code",
   "execution_count": 19,
   "metadata": {},
   "outputs": [
    {
     "name": "stdout",
     "output_type": "stream",
     "text": [
      "Score of team formation 0.24964963604473178\n"
     ]
    }
   ],
   "source": [
    "import math\n",
    "def loss(team_list):\n",
    "    score_list = []\n",
    "    for team in team_list:\n",
    "        maleRatio = len([s for s in team if s[\"Gender\"] == \"Male\"])/len(team)\n",
    "        femaleRatio = len([s for s in team if s[\"Gender\"] == \"Female\"])/len(team)\n",
    "        average_gpa = sum([student[\"CGPA\"] for student in team])/len(team)\n",
    "        std_gpa = math.sqrt(sum([(student[\"CGPA\"]-average_gpa)**2 for student in team])/sum([student[\"CGPA\"] for student in team]))\n",
    "        name_dict = {}\n",
    "        for i in team:\n",
    "            if i[\"School\"] in name_dict:\n",
    "                name_dict[i[\"School\"]]+=1\n",
    "            else:\n",
    "                name_dict[i[\"School\"]] = 1\n",
    "        school_count = len(name_dict)\n",
    "        score = (0.5-maleRatio)**2+(0.5-femaleRatio)**2+std_gpa+(num_of_student_in_each_group-school_count)\n",
    "        score_list.append(score)\n",
    "    \n",
    "    return score_list\n",
    "\n",
    "a = loss(x)\n",
    "print(\"Score of team formation\",1 - (sum(a))/len(a))"
   ]
  },
  {
   "cell_type": "markdown",
   "metadata": {},
   "source": [
    "#### Time complexity - O($n^2$)"
   ]
  }
 ],
 "metadata": {
  "kernelspec": {
   "display_name": "Python 3",
   "language": "python",
   "name": "python3"
  },
  "language_info": {
   "codemirror_mode": {
    "name": "ipython",
    "version": 3
   },
   "file_extension": ".py",
   "mimetype": "text/x-python",
   "name": "python",
   "nbconvert_exporter": "python",
   "pygments_lexer": "ipython3",
   "version": "3.9.6"
  }
 },
 "nbformat": 4,
 "nbformat_minor": 2
}
