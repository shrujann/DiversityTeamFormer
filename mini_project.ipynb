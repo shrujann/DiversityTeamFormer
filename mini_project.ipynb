{
 "cells": [
  {
   "cell_type": "markdown",
   "metadata": {},
   "source": [
    "## Read the student information from given CSV file and transforms it into dictionary "
   ]
  },
  {
   "cell_type": "code",
   "execution_count": 55,
   "metadata": {},
   "outputs": [],
   "source": [
    "def csv2dict(filename):\n",
    "    with open(filename, \"r\") as target:\n",
    "        linesasList = []\n",
    "        studentInfo = []\n",
    "        print(\"\\n Reading the lines of the file... \")\n",
    "        for line in target:\n",
    "            linesasList.append(line) # to add all the lines of the csv file into a list\n",
    "        print(\" All lines have been read and stored in the variable 'linesasList' \")\n",
    "\n",
    "        for line in linesasList[1:]:\n",
    "            # for each value in the CSV file, after the headers, create a dictionary with the following categories for each line.\n",
    "            tutorial_group, student_id, school, name, gender, cgpa = line.strip().split(',')\n",
    "\n",
    "            studentInfoAsDict = {\n",
    "            'Tutorial Group': int(tutorial_group.strip(\"G-\")),\n",
    "            'Student ID': student_id,\n",
    "            'Name': name,\n",
    "            'School': school,\n",
    "            'Gender': gender,\n",
    "            'CGPA': float(cgpa)\n",
    "            }\n",
    "            \n",
    "            studentInfo.append(studentInfoAsDict)\n",
    "        print(\" All student data has been stored into the list 'studentInfo' \")\n",
    "    return studentInfo"
   ]
  },
  {
   "cell_type": "code",
   "execution_count": 56,
   "metadata": {},
   "outputs": [
    {
     "name": "stdout",
     "output_type": "stream",
     "text": [
      "\n",
      " Reading the lines of the file... \n",
      " All lines have been read and stored in the variable 'linesasList' \n",
      " All student data has been stored into the list 'studentInfo' \n"
     ]
    }
   ],
   "source": [
    "studentsInfoAsDictionaries = csv2dict(\"records.csv\")"
   ]
  },
  {
   "cell_type": "markdown",
   "metadata": {},
   "source": [
    "## Merge sort algorithm for quick sort"
   ]
  },
  {
   "cell_type": "code",
   "execution_count": 57,
   "metadata": {},
   "outputs": [],
   "source": [
    "def merge_sort(list, key):\n",
    "    if len(list) <= 1:\n",
    "        return list\n",
    "    mid = len(list) // 2\n",
    "    left = merge_sort(list[:mid],key)\n",
    "    right = merge_sort(list[mid:],key)\n",
    "    return merge(left,right, key)\n",
    "\n",
    "\n",
    "def merge(left, right, key):\n",
    "    result = []\n",
    "    i = j = 0\n",
    "    while i < len(left) and j < len(right):\n",
    "        if left[i][key] <= right[j][key]:\n",
    "            result.append(left[i])\n",
    "            i += 1\n",
    "        else:\n",
    "            result.append(right[j])\n",
    "            j += 1\n",
    "    result.extend(left[i:])\n",
    "    result.extend(right[j:])\n",
    "    return result"
   ]
  },
  {
   "cell_type": "markdown",
   "metadata": {},
   "source": [
    "## Code for sorting students by GPA order"
   ]
  },
  {
   "cell_type": "code",
   "execution_count": 58,
   "metadata": {},
   "outputs": [],
   "source": [
    "def gpasort(list):\n",
    "    sortedListByGpa = []\n",
    "    print(\"\\n Attempting to sort the tutorial groups by GPA...\")\n",
    "    for i in list:\n",
    "        sorted_tutorialGroup = merge_sort(i, \"CGPA\")\n",
    "        sortedListByGpa.append(sorted_tutorialGroup)\n",
    "    print(\" Sucessfully sorted all of the groups by GPA \")\n",
    "    return sortedListByGpa"
   ]
  },
  {
   "cell_type": "code",
   "execution_count": 59,
   "metadata": {},
   "outputs": [
    {
     "name": "stdout",
     "output_type": "stream",
     "text": [
      "\n",
      " Attempting merge-sorting on the student data stored in the list... \n",
      " Sorting sucessful! \n"
     ]
    }
   ],
   "source": [
    "print(\"\\n Attempting merge-sorting on the student data stored in the list... \")\n",
    "sortedStudentInfoAsDictionaries = merge_sort(studentsInfoAsDictionaries, \"Tutorial Group\")\n",
    "print(\" Sorting sucessful! \")"
   ]
  },
  {
   "cell_type": "code",
   "execution_count": 60,
   "metadata": {},
   "outputs": [
    {
     "name": "stdout",
     "output_type": "stream",
     "text": [
      "\n",
      " Attempting to save sorted data into CSV file 'sortedRecords'... \n",
      " Stored sucessfully! \n"
     ]
    }
   ],
   "source": [
    "print(\"\\n Attempting to save sorted data into CSV file 'sortedRecords'... \")\n",
    "with open(\"sortedRecords.csv\", \"w+\") as target:\n",
    "    for i in sortedStudentInfoAsDictionaries:\n",
    "        print(i, file=target)\n",
    "print(\" Stored sucessfully! \")"
   ]
  },
  {
   "cell_type": "code",
   "execution_count": 61,
   "metadata": {},
   "outputs": [],
   "source": [
    "def studentsAsTutorialGroupLists(list):\n",
    "    counter = 0\n",
    "    sortedInto120Lists = []\n",
    "    temporaryList = []\n",
    "    for i in list:\n",
    "        counter += 1\n",
    "        if counter % 50 == 0:\n",
    "            temporaryList.append(i)\n",
    "            sortedInto120Lists.append(temporaryList)\n",
    "            temporaryList = []\n",
    "        else:\n",
    "            temporaryList.append(i)\n",
    "    return sortedInto120Lists"
   ]
  },
  {
   "cell_type": "code",
   "execution_count": 62,
   "metadata": {},
   "outputs": [
    {
     "name": "stdout",
     "output_type": "stream",
     "text": [
      "\n",
      " Attempting to sort the values into 120 lists with each tutorial group...\n",
      " Sucessfully seperated them into their assigned tutorial groups \n",
      "\n",
      " Attempting to sort the tutorial groups by GPA...\n",
      " Sucessfully sorted all of the groups by GPA \n"
     ]
    }
   ],
   "source": [
    "print(\"\\n Attempting to sort the values into 120 lists with each tutorial group...\")\n",
    "sortedTutorialGroups = studentsAsTutorialGroupLists(sortedStudentInfoAsDictionaries)\n",
    "print(\" Sucessfully seperated them into their assigned tutorial groups \")\n",
    "gpasortedTutorialGroups = gpasort(sortedTutorialGroups)"
   ]
  },
  {
   "cell_type": "code",
   "execution_count": 63,
   "metadata": {},
   "outputs": [],
   "source": [
    "def genderRatio(teams,candidate):\n",
    "    if len(teams) == 0:\n",
    "        return (0,0)\n",
    "    team = teams + [candidate]\n",
    "    \n",
    "    maleRatio = len([s for s in team if s[\"Gender\"] == \"Male\"])/len(team)\n",
    "    femaleRatio = len([s for s in team if s[\"Gender\"] == \"Female\"])/len(team)\n",
    "    return (maleRatio,femaleRatio)"
   ]
  },
  {
   "cell_type": "markdown",
   "metadata": {},
   "source": [
    "## Forming team meets criteria GPA and School TODO: Add gender criteria"
   ]
  },
  {
   "cell_type": "code",
   "execution_count": 64,
   "metadata": {},
   "outputs": [],
   "source": [
    "def teamFormation(list):\n",
    "    teamFormedLists = []\n",
    "\n",
    "    for tutorial_group in list:\n",
    "        team = []\n",
    "        numberOfTeams = 0\n",
    "        numberOfStudentsInTheTeam = 0\n",
    "        schoolCriteriaRelaxed = False\n",
    "\n",
    "        while tutorial_group:  # Continue until all students in the tut group are processed\n",
    "            if numberOfStudentsInTheTeam % 2 == 0:  # for even index, it will try to add students from the start of the list (lowest GPA)\n",
    "                satisfySchoolCriteria = False\n",
    "                for i in range(len(tutorial_group)):\n",
    "                    if len([s for s in team if s['School'] == tutorial_group[i]['School']]) < 2 and (genderRatio(team,tutorial_group[i])[0]<0.75 and genderRatio(team,tutorial_group[i])[1]<0.75): # max 2 students from the same school\n",
    "                        added_student = tutorial_group.pop(i) #add student to team and remove them from tut group list\n",
    "                        team.append(added_student)\n",
    "                        numberOfStudentsInTheTeam += 1\n",
    "                        satisfySchoolCriteria = True\n",
    "                        break  # Stop searching once a valid student is added to team\n",
    "                \n",
    "                if not satisfySchoolCriteria:\n",
    "                    # Relax the criteria to allow students from the same school\n",
    "                    if not schoolCriteriaRelaxed:\n",
    "                        school = tutorial_group[i]['School']  # Store the school of the last attempted student\n",
    "                        print(f\" Tutorial Group G-{team[0]['Tutorial Group']} Team Number {numberOfTeams + 1} has more than 2 students from the school: {school}\")\n",
    "                        schoolCriteriaRelaxed = True\n",
    "                    for i in range(len(tutorial_group)):\n",
    "                        added_student = tutorial_group.pop(i)\n",
    "                        team.append(added_student)\n",
    "                        numberOfStudentsInTheTeam += 1\n",
    "                        satisfySchoolCriteria = True\n",
    "                        break  # Stop searching once a valid student is added to team\n",
    "                    \n",
    "            else:  # for odd index, it will try to add students from the end of the list (highest GPA)\n",
    "                satisfySchoolCriteria = False\n",
    "                for i in range(len(tutorial_group) - 1, -1, -1): #search for students in reverse order (from bottom to top)\n",
    "                    if len([s for s in team if s['School'] == tutorial_group[i]['School']]) < 2 and (genderRatio(team,tutorial_group[i])[0]<0.75 and genderRatio(team,tutorial_group[i])[1]<0.75):\n",
    "                        added_student = tutorial_group.pop(i)\n",
    "                        team.append(added_student)\n",
    "                        numberOfStudentsInTheTeam += 1\n",
    "                        satisfySchoolCriteria = True\n",
    "                        break  # Stop searching once a valid student is added to team\n",
    "                \n",
    "                if not satisfySchoolCriteria:\n",
    "                    # Relax the criteria to allow students from the same school\n",
    "                    if not schoolCriteriaRelaxed:\n",
    "                        school = tutorial_group[i]['School']  # Store the school of the last attempted student\n",
    "                        print(f\" Tutorial Group G-{team[0]['Tutorial Group']} Team Number {numberOfTeams + 1} has more than 2 students from the school: {school}\")\n",
    "                        schoolCriteriaRelaxed = True\n",
    "                    for i in range(len(tutorial_group) - 1, -1, -1):\n",
    "                        added_student = tutorial_group.pop(i)\n",
    "                        team.append(added_student)\n",
    "                        numberOfStudentsInTheTeam += 1\n",
    "                        satisfySchoolCriteria = True\n",
    "                        break  # Stop searching once a valid student is added to team\n",
    "\n",
    "            if numberOfStudentsInTheTeam % 5 == 0:\n",
    "                numberOfTeams += 1\n",
    "                for k in team:\n",
    "                    k[\"Team\"] = numberOfTeams\n",
    "                teamFormedLists.append(team)\n",
    "                team = []  # Reset team for the next team allocation\n",
    "                schoolCriteriaRelaxed = False # Reset for the next team\n",
    "\n",
    "    return teamFormedLists\n"
   ]
  },
  {
   "cell_type": "code",
   "execution_count": 65,
   "metadata": {},
   "outputs": [
    {
     "name": "stdout",
     "output_type": "stream",
     "text": [
      "\n",
      " Attempting to allocate students into teams of 5 in each tutorial group based on GPA and school criteria...\n",
      " Tutorial Group G-2 Team Number 9 has more than 2 students from the school: EEE\n",
      " Tutorial Group G-2 Team Number 10 has more than 2 students from the school: SSS\n",
      " Tutorial Group G-3 Team Number 10 has more than 2 students from the school: CEE\n",
      " Tutorial Group G-4 Team Number 8 has more than 2 students from the school: CoB (NBS)\n",
      " Tutorial Group G-4 Team Number 9 has more than 2 students from the school: EEE\n",
      " Tutorial Group G-4 Team Number 10 has more than 2 students from the school: CoB (NBS)\n",
      " Tutorial Group G-5 Team Number 9 has more than 2 students from the school: CCEB\n",
      " Tutorial Group G-5 Team Number 10 has more than 2 students from the school: SoH\n",
      " Tutorial Group G-6 Team Number 10 has more than 2 students from the school: WKW SCI\n",
      " Tutorial Group G-8 Team Number 10 has more than 2 students from the school: WKW SCI\n",
      " Tutorial Group G-10 Team Number 10 has more than 2 students from the school: CoE\n",
      " Tutorial Group G-13 Team Number 10 has more than 2 students from the school: ASE\n",
      " Tutorial Group G-14 Team Number 10 has more than 2 students from the school: CCDS\n",
      " Tutorial Group G-15 Team Number 10 has more than 2 students from the school: EEE\n",
      " Tutorial Group G-16 Team Number 10 has more than 2 students from the school: ASE\n",
      " Tutorial Group G-17 Team Number 10 has more than 2 students from the school: SSS\n",
      " Tutorial Group G-18 Team Number 10 has more than 2 students from the school: CoB (NBS)\n",
      " Tutorial Group G-19 Team Number 10 has more than 2 students from the school: SBS\n",
      " Tutorial Group G-20 Team Number 10 has more than 2 students from the school: MAE\n",
      " Tutorial Group G-21 Team Number 10 has more than 2 students from the school: SPMS\n",
      " Tutorial Group G-24 Team Number 10 has more than 2 students from the school: CCEB\n",
      " Tutorial Group G-25 Team Number 10 has more than 2 students from the school: SoH\n",
      " Tutorial Group G-26 Team Number 10 has more than 2 students from the school: CCDS\n",
      " Tutorial Group G-27 Team Number 9 has more than 2 students from the school: SBS\n",
      " Tutorial Group G-27 Team Number 10 has more than 2 students from the school: CCEB\n",
      " Tutorial Group G-29 Team Number 10 has more than 2 students from the school: EEE\n",
      " Tutorial Group G-30 Team Number 10 has more than 2 students from the school: MAE\n",
      " Tutorial Group G-33 Team Number 10 has more than 2 students from the school: CCDS\n",
      " Tutorial Group G-34 Team Number 10 has more than 2 students from the school: SPMS\n",
      " Tutorial Group G-35 Team Number 10 has more than 2 students from the school: SBS\n",
      " Tutorial Group G-36 Team Number 9 has more than 2 students from the school: SoH\n",
      " Tutorial Group G-36 Team Number 10 has more than 2 students from the school: CCDS\n",
      " Tutorial Group G-38 Team Number 9 has more than 2 students from the school: MAE\n",
      " Tutorial Group G-38 Team Number 10 has more than 2 students from the school: MAE\n",
      " Tutorial Group G-39 Team Number 9 has more than 2 students from the school: SBS\n",
      " Tutorial Group G-39 Team Number 10 has more than 2 students from the school: CCEB\n",
      " Tutorial Group G-46 Team Number 10 has more than 2 students from the school: EEE\n",
      " Tutorial Group G-49 Team Number 10 has more than 2 students from the school: CCDS\n",
      " Tutorial Group G-51 Team Number 10 has more than 2 students from the school: CoB (NBS)\n",
      " Tutorial Group G-52 Team Number 9 has more than 2 students from the school: SSS\n",
      " Tutorial Group G-52 Team Number 10 has more than 2 students from the school: SPMS\n",
      " Tutorial Group G-53 Team Number 10 has more than 2 students from the school: CCDS\n",
      " Tutorial Group G-54 Team Number 10 has more than 2 students from the school: CoE\n",
      " Tutorial Group G-55 Team Number 9 has more than 2 students from the school: ASE\n",
      " Tutorial Group G-55 Team Number 10 has more than 2 students from the school: SoH\n",
      " Tutorial Group G-56 Team Number 10 has more than 2 students from the school: EEE\n",
      " Tutorial Group G-57 Team Number 9 has more than 2 students from the school: CCEB\n",
      " Tutorial Group G-57 Team Number 10 has more than 2 students from the school: CCEB\n",
      " Tutorial Group G-58 Team Number 10 has more than 2 students from the school: SBS\n",
      " Tutorial Group G-59 Team Number 10 has more than 2 students from the school: CoB (NBS)\n",
      " Tutorial Group G-61 Team Number 10 has more than 2 students from the school: MAE\n",
      " Tutorial Group G-65 Team Number 9 has more than 2 students from the school: CoB (NBS)\n",
      " Tutorial Group G-65 Team Number 10 has more than 2 students from the school: EEE\n",
      " Tutorial Group G-66 Team Number 10 has more than 2 students from the school: SoH\n",
      " Tutorial Group G-67 Team Number 10 has more than 2 students from the school: CEE\n",
      " Tutorial Group G-68 Team Number 10 has more than 2 students from the school: EEE\n",
      " Tutorial Group G-69 Team Number 10 has more than 2 students from the school: SSS\n",
      " Tutorial Group G-70 Team Number 9 has more than 2 students from the school: NIE\n",
      " Tutorial Group G-70 Team Number 10 has more than 2 students from the school: MAE\n",
      " Tutorial Group G-71 Team Number 9 has more than 2 students from the school: SSS\n",
      " Tutorial Group G-71 Team Number 10 has more than 2 students from the school: SBS\n",
      " Tutorial Group G-72 Team Number 10 has more than 2 students from the school: EEE\n",
      " Tutorial Group G-77 Team Number 10 has more than 2 students from the school: CEE\n",
      " Tutorial Group G-78 Team Number 10 has more than 2 students from the school: CCDS\n",
      " Tutorial Group G-79 Team Number 10 has more than 2 students from the school: CCEB\n",
      " Tutorial Group G-80 Team Number 10 has more than 2 students from the school: SoH\n",
      " Tutorial Group G-81 Team Number 10 has more than 2 students from the school: MAE\n",
      " Tutorial Group G-83 Team Number 10 has more than 2 students from the school: SoH\n",
      " Tutorial Group G-84 Team Number 9 has more than 2 students from the school: SBS\n",
      " Tutorial Group G-84 Team Number 10 has more than 2 students from the school: MAE\n",
      " Tutorial Group G-85 Team Number 10 has more than 2 students from the school: CoB (NBS)\n",
      " Tutorial Group G-87 Team Number 10 has more than 2 students from the school: MAE\n",
      " Tutorial Group G-88 Team Number 10 has more than 2 students from the school: CoE\n",
      " Tutorial Group G-90 Team Number 10 has more than 2 students from the school: SoH\n",
      " Tutorial Group G-91 Team Number 10 has more than 2 students from the school: CCDS\n",
      " Tutorial Group G-93 Team Number 10 has more than 2 students from the school: CoE\n",
      " Tutorial Group G-94 Team Number 10 has more than 2 students from the school: CoB (NBS)\n",
      " Tutorial Group G-95 Team Number 9 has more than 2 students from the school: WKW SCI\n",
      " Tutorial Group G-95 Team Number 10 has more than 2 students from the school: CoE\n",
      " Tutorial Group G-97 Team Number 8 has more than 2 students from the school: CCDS\n",
      " Tutorial Group G-97 Team Number 9 has more than 2 students from the school: CCEB\n",
      " Tutorial Group G-97 Team Number 10 has more than 2 students from the school: CoB (NBS)\n",
      " Tutorial Group G-98 Team Number 10 has more than 2 students from the school: WKW SCI\n",
      " Tutorial Group G-99 Team Number 10 has more than 2 students from the school: SSS\n",
      " Tutorial Group G-101 Team Number 10 has more than 2 students from the school: CCDS\n",
      " Tutorial Group G-102 Team Number 10 has more than 2 students from the school: WKW SCI\n",
      " Tutorial Group G-103 Team Number 10 has more than 2 students from the school: WKW SCI\n",
      " Tutorial Group G-104 Team Number 9 has more than 2 students from the school: SoH\n",
      " Tutorial Group G-104 Team Number 10 has more than 2 students from the school: SSS\n",
      " Tutorial Group G-105 Team Number 10 has more than 2 students from the school: CoB (NBS)\n"
     ]
    },
    {
     "name": "stdout",
     "output_type": "stream",
     "text": [
      " Tutorial Group G-107 Team Number 10 has more than 2 students from the school: CCEB\n",
      " Tutorial Group G-109 Team Number 10 has more than 2 students from the school: CoB (NBS)\n",
      " Tutorial Group G-110 Team Number 10 has more than 2 students from the school: CCEB\n",
      " Tutorial Group G-112 Team Number 10 has more than 2 students from the school: CoE\n",
      " Tutorial Group G-114 Team Number 8 has more than 2 students from the school: SSS\n",
      " Tutorial Group G-114 Team Number 9 has more than 2 students from the school: EEE\n",
      " Tutorial Group G-114 Team Number 10 has more than 2 students from the school: MAE\n",
      " Tutorial Group G-115 Team Number 10 has more than 2 students from the school: CoB (NBS)\n",
      " Tutorial Group G-117 Team Number 10 has more than 2 students from the school: CCDS\n",
      " Tutorial Group G-118 Team Number 10 has more than 2 students from the school: CCDS\n",
      " Tutorial Group G-119 Team Number 10 has more than 2 students from the school: SSS\n",
      " Tutorial Group G-120 Team Number 10 has more than 2 students from the school: CCDS\n",
      " All students have been placed into teams!\n"
     ]
    }
   ],
   "source": [
    "print(\"\\n Attempting to allocate students into teams of 5 in each tutorial group based on GPA and school criteria...\")\n",
    "x = teamFormation(gpasortedTutorialGroups)\n",
    "print(\" All students have been placed into teams!\")"
   ]
  },
  {
   "cell_type": "markdown",
   "metadata": {},
   "source": [
    "## Output results into target csv file"
   ]
  },
  {
   "cell_type": "code",
   "execution_count": 66,
   "metadata": {},
   "outputs": [
    {
     "name": "stdout",
     "output_type": "stream",
     "text": [
      "\n",
      " Attempting to save allocated teams data into CSV file 'sortedteamRecords'...\n",
      " Stored sucessfully! \n",
      "\n"
     ]
    }
   ],
   "source": [
    "print(\"\\n Attempting to save allocated teams data into CSV file 'sortedteamRecords'...\")\n",
    "# saves the new formed teams into sortedteamRecords.csv and creates a new column \"Team Number\"\n",
    "with open(\"sortedteamsRecords.csv\", \"w+\") as target:\n",
    "    target.write(\"Tutorial Group,Team Number,Student ID,School,Name,Gender,CGPA\\n\")\n",
    "    for group in x:\n",
    "        for student in group:\n",
    "            line = f\"G-{student['Tutorial Group']},team {student['Team']},{student['Student ID']},{student['School']},{student['Name']},{student['Gender']},{student['CGPA']}\\n\"\n",
    "            target.write(line)\n",
    "print(\" Stored sucessfully! \\n\")"
   ]
  },
  {
   "cell_type": "code",
   "execution_count": null,
   "metadata": {},
   "outputs": [],
   "source": []
  }
 ],
 "metadata": {
  "kernelspec": {
   "display_name": "base",
   "language": "python",
   "name": "python3"
  },
  "language_info": {
   "codemirror_mode": {
    "name": "ipython",
    "version": 3
   },
   "file_extension": ".py",
   "mimetype": "text/x-python",
   "name": "python",
   "nbconvert_exporter": "python",
   "pygments_lexer": "ipython3",
   "version": "3.10.13"
  }
 },
 "nbformat": 4,
 "nbformat_minor": 2
}
